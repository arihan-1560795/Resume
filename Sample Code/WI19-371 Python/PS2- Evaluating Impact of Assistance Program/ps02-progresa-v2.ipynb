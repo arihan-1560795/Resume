{
 "cells": [
  {
   "cell_type": "markdown",
   "metadata": {
    "ein.tags": "worksheet-0",
    "slideshow": {
     "slide_type": "-"
    }
   },
   "source": [
    "# PS2- Analyzing Impact of the Progresa Assistance Program"
   ]
  },
  {
   "cell_type": "code",
   "execution_count": 1,
   "metadata": {},
   "outputs": [],
   "source": [
    "# import libraries used\n",
    "import numpy as np\n",
    "import pandas as pd\n",
    "from scipy import stats # ANOVA\n",
    "import matplotlib.pyplot as plt\n",
    "import statsmodels.formula.api as smf # linear modeling"
   ]
  },
  {
   "cell_type": "markdown",
   "metadata": {
    "ein.tags": "worksheet-0",
    "slideshow": {
     "slide_type": "-"
    }
   },
   "source": [
    "## Introduction to the assignment\n",
    "\n",
    "For this assignment, you will be using data from the [Progresa\n",
    "program](http://en.wikipedia.org/wiki/Oportunidades), a government\n",
    "social assistance program in Mexico. This program, as well as the\n",
    "details of its impact, are described in the paper \"[School subsidies\n",
    "for the poor: evaluating the Mexican Progresa poverty\n",
    "program](http://www.sciencedirect.com/science/article/pii/S0304387803001858)\",\n",
    "by Paul Shultz (available on Canvas).  The data\n",
    "(progresa_sample.csv.gz) is available on canvas\n",
    "in files/data.\n",
    "\n",
    "Please read the paper to familiarize yourself with\n",
    "the PROGRESA program before beginning this problem set, so you have a\n",
    "rough sense of where the data come from and how they were\n",
    "generated. If you just proceed into the problem set without\n",
    "understanding Progresa or the data, it will be very difficult!\n",
    "\n",
    "The goal of this problem set is to implement some of the basic\n",
    "econometric techniques that you are learning in class to measure the\n",
    "impact of Progresa on secondary school enrollment rates, in particular\n",
    "differences-in-differences.  Your task is to **estimate the impact of\n",
    "_progresa_ subsidies on the school attendance**.  Note: this asks to\n",
    "estimate a causal effect.\n",
    "\n",
    "The timeline of the program was:\n",
    "\n",
    " * Baseline survey conducted in 1997\n",
    " * Intervention begins in 1998, \"Wave 1\" of data collected in 1998\n",
    " * \"Wave 2 of data\" collected in 1999\n",
    " * Evaluation ends in 2000, at which point the control villages were treated. \n",
    " \n",
    "When you are ready, download the progresa_sample.csv data from\n",
    "Canvas. The data are actual data collected to evaluate the impact of\n",
    "the Progresa program.  In this file, each row corresponds to an\n",
    "observation taken for a given child for a given year. There are two\n",
    "years of data (1997 and 1998), and just under 40,000 children who are\n",
    "surveyed in both years.  For each child-year observation, the\n",
    "following variables are collected:\n",
    "\n",
    "| Variable name | Description|\n",
    "|------|------|\n",
    "|year\t  |year in which data is collected\n",
    "|sex\t  |male = 1|\n",
    "|indig\t  |indigenous = 1|\n",
    "|dist_sec |nearest distance to a secondary school|\n",
    "|sc\t      |enrolled in school in year of survey (=1)|\n",
    "|grc      |grade enrolled|\n",
    "|fam_n    |family size|\n",
    "|min_dist |\tmin distance to an urban center|\n",
    "|dist_cap |\tmin distance to the capital|\n",
    "|poor     |\tpoor = \"pobre\", not poor = \"no pobre\"|\n",
    "|progresa |treatment = \"basal\", control = \"0\"|\n",
    "|hohedu\t  |years of schooling of head of household|\n",
    "|hohwag\t  |monthly wages of head of household|\n",
    "|welfare_index|\twelfare index used to classify poor|\n",
    "|hohsex\t|gender of head of household (male=1)|\n",
    "|hohage\t|age of head of household|\n",
    "|age\t|years old|\n",
    "|folnum\t|individual id|\n",
    "|village|\tvillage id|\n",
    "|sc97\t|enrolled in school in 1997 (=1) |"
   ]
  },
  {
   "cell_type": "markdown",
   "metadata": {
    "ein.tags": "worksheet-0",
    "slideshow": {
     "slide_type": "-"
    }
   },
   "source": [
    "## Part 1: Descriptive analysis\n",
    "\n",
    "### 1.1\tSummary Statistics\n",
    "\n",
    "Report summary statistics (mean, standard deviation) for all of the demographic variables in the dataset (i.e., everything except year, folnum, village).  Present the actual levels for 'progresa' and\n",
    "'poor'.  Do these fit with the documentation above? "
   ]
  },
  {
   "cell_type": "code",
   "execution_count": 3,
   "metadata": {},
   "outputs": [
    {
     "name": "stdout",
     "output_type": "stream",
     "text": [
      "Mean, Std. Deviation Table for attribute groupings for 'Treatment' and 'Poor' variables\n",
      "\n"
     ]
    },
    {
     "data": {
      "text/html": [
       "<div>\n",
       "<style scoped>\n",
       "    .dataframe tbody tr th:only-of-type {\n",
       "        vertical-align: middle;\n",
       "    }\n",
       "\n",
       "    .dataframe tbody tr th {\n",
       "        vertical-align: top;\n",
       "    }\n",
       "\n",
       "    .dataframe thead tr th {\n",
       "        text-align: left;\n",
       "    }\n",
       "</style>\n",
       "<table border=\"1\" class=\"dataframe\">\n",
       "  <thead>\n",
       "    <tr>\n",
       "      <th></th>\n",
       "      <th>progresa</th>\n",
       "      <th colspan=\"2\" halign=\"left\">0</th>\n",
       "      <th colspan=\"2\" halign=\"left\">basal</th>\n",
       "    </tr>\n",
       "    <tr>\n",
       "      <th></th>\n",
       "      <th>poor</th>\n",
       "      <th>no pobre</th>\n",
       "      <th>pobre</th>\n",
       "      <th>no pobre</th>\n",
       "      <th>pobre</th>\n",
       "    </tr>\n",
       "  </thead>\n",
       "  <tbody>\n",
       "    <tr>\n",
       "      <th rowspan=\"3\" valign=\"top\">sex</th>\n",
       "      <th>size</th>\n",
       "      <td>4742.000000</td>\n",
       "      <td>24948.000000</td>\n",
       "      <td>7116.000000</td>\n",
       "      <td>40444.000000</td>\n",
       "    </tr>\n",
       "    <tr>\n",
       "      <th>mean</th>\n",
       "      <td>0.496203</td>\n",
       "      <td>0.505052</td>\n",
       "      <td>0.507589</td>\n",
       "      <td>0.519317</td>\n",
       "    </tr>\n",
       "    <tr>\n",
       "      <th>std</th>\n",
       "      <td>0.500038</td>\n",
       "      <td>0.499984</td>\n",
       "      <td>0.499978</td>\n",
       "      <td>0.499633</td>\n",
       "    </tr>\n",
       "    <tr>\n",
       "      <th rowspan=\"3\" valign=\"top\">indig</th>\n",
       "      <th>size</th>\n",
       "      <td>4742.000000</td>\n",
       "      <td>24948.000000</td>\n",
       "      <td>7116.000000</td>\n",
       "      <td>40444.000000</td>\n",
       "    </tr>\n",
       "    <tr>\n",
       "      <th>mean</th>\n",
       "      <td>0.111817</td>\n",
       "      <td>0.332207</td>\n",
       "      <td>0.146169</td>\n",
       "      <td>0.325986</td>\n",
       "    </tr>\n",
       "    <tr>\n",
       "      <th>std</th>\n",
       "      <td>0.315175</td>\n",
       "      <td>0.471014</td>\n",
       "      <td>0.353301</td>\n",
       "      <td>0.468748</td>\n",
       "    </tr>\n",
       "    <tr>\n",
       "      <th rowspan=\"3\" valign=\"top\">dist_sec</th>\n",
       "      <th>size</th>\n",
       "      <td>4742.000000</td>\n",
       "      <td>24948.000000</td>\n",
       "      <td>7116.000000</td>\n",
       "      <td>40444.000000</td>\n",
       "    </tr>\n",
       "    <tr>\n",
       "      <th>mean</th>\n",
       "      <td>2.182458</td>\n",
       "      <td>2.507662</td>\n",
       "      <td>2.070875</td>\n",
       "      <td>2.453122</td>\n",
       "    </tr>\n",
       "    <tr>\n",
       "      <th>std</th>\n",
       "      <td>2.201688</td>\n",
       "      <td>2.490255</td>\n",
       "      <td>1.721580</td>\n",
       "      <td>2.141212</td>\n",
       "    </tr>\n",
       "    <tr>\n",
       "      <th rowspan=\"3\" valign=\"top\">sc</th>\n",
       "      <th>size</th>\n",
       "      <td>4742.000000</td>\n",
       "      <td>24948.000000</td>\n",
       "      <td>7116.000000</td>\n",
       "      <td>40444.000000</td>\n",
       "    </tr>\n",
       "    <tr>\n",
       "      <th>mean</th>\n",
       "      <td>0.768712</td>\n",
       "      <td>0.811641</td>\n",
       "      <td>0.801435</td>\n",
       "      <td>0.833891</td>\n",
       "    </tr>\n",
       "    <tr>\n",
       "      <th>std</th>\n",
       "      <td>0.421707</td>\n",
       "      <td>0.391007</td>\n",
       "      <td>0.398951</td>\n",
       "      <td>0.372184</td>\n",
       "    </tr>\n",
       "    <tr>\n",
       "      <th rowspan=\"3\" valign=\"top\">grc</th>\n",
       "      <th>size</th>\n",
       "      <td>4742.000000</td>\n",
       "      <td>24948.000000</td>\n",
       "      <td>7116.000000</td>\n",
       "      <td>40444.000000</td>\n",
       "    </tr>\n",
       "    <tr>\n",
       "      <th>mean</th>\n",
       "      <td>4.806161</td>\n",
       "      <td>3.810395</td>\n",
       "      <td>4.855501</td>\n",
       "      <td>3.810007</td>\n",
       "    </tr>\n",
       "    <tr>\n",
       "      <th>std</th>\n",
       "      <td>2.592468</td>\n",
       "      <td>2.460059</td>\n",
       "      <td>2.614306</td>\n",
       "      <td>2.440515</td>\n",
       "    </tr>\n",
       "    <tr>\n",
       "      <th rowspan=\"3\" valign=\"top\">fam_n</th>\n",
       "      <th>size</th>\n",
       "      <td>4742.000000</td>\n",
       "      <td>24948.000000</td>\n",
       "      <td>7116.000000</td>\n",
       "      <td>40444.000000</td>\n",
       "    </tr>\n",
       "    <tr>\n",
       "      <th>mean</th>\n",
       "      <td>6.888233</td>\n",
       "      <td>7.302469</td>\n",
       "      <td>6.756886</td>\n",
       "      <td>7.281327</td>\n",
       "    </tr>\n",
       "    <tr>\n",
       "      <th>std</th>\n",
       "      <td>2.396068</td>\n",
       "      <td>2.362807</td>\n",
       "      <td>2.387524</td>\n",
       "      <td>2.322986</td>\n",
       "    </tr>\n",
       "    <tr>\n",
       "      <th rowspan=\"3\" valign=\"top\">min_dist</th>\n",
       "      <th>size</th>\n",
       "      <td>4742.000000</td>\n",
       "      <td>24948.000000</td>\n",
       "      <td>7116.000000</td>\n",
       "      <td>40444.000000</td>\n",
       "    </tr>\n",
       "    <tr>\n",
       "      <th>mean</th>\n",
       "      <td>90.734247</td>\n",
       "      <td>103.237854</td>\n",
       "      <td>91.594810</td>\n",
       "      <td>107.152915</td>\n",
       "    </tr>\n",
       "    <tr>\n",
       "      <th>std</th>\n",
       "      <td>41.986958</td>\n",
       "      <td>43.663254</td>\n",
       "      <td>39.951263</td>\n",
       "      <td>40.778027</td>\n",
       "    </tr>\n",
       "    <tr>\n",
       "      <th rowspan=\"3\" valign=\"top\">dist_cap</th>\n",
       "      <th>size</th>\n",
       "      <td>4742.000000</td>\n",
       "      <td>24948.000000</td>\n",
       "      <td>7116.000000</td>\n",
       "      <td>40444.000000</td>\n",
       "    </tr>\n",
       "    <tr>\n",
       "      <th>mean</th>\n",
       "      <td>120.619666</td>\n",
       "      <td>153.769730</td>\n",
       "      <td>126.404535</td>\n",
       "      <td>150.829074</td>\n",
       "    </tr>\n",
       "    <tr>\n",
       "      <th>std</th>\n",
       "      <td>59.099801</td>\n",
       "      <td>82.633912</td>\n",
       "      <td>66.103910</td>\n",
       "      <td>73.907923</td>\n",
       "    </tr>\n",
       "    <tr>\n",
       "      <th rowspan=\"3\" valign=\"top\">hohedu</th>\n",
       "      <th>size</th>\n",
       "      <td>4742.000000</td>\n",
       "      <td>24948.000000</td>\n",
       "      <td>7116.000000</td>\n",
       "      <td>40444.000000</td>\n",
       "    </tr>\n",
       "    <tr>\n",
       "      <th>mean</th>\n",
       "      <td>3.396457</td>\n",
       "      <td>2.590348</td>\n",
       "      <td>3.569140</td>\n",
       "      <td>2.663139</td>\n",
       "    </tr>\n",
       "    <tr>\n",
       "      <th>std</th>\n",
       "      <td>3.167232</td>\n",
       "      <td>2.459707</td>\n",
       "      <td>3.264946</td>\n",
       "      <td>2.549971</td>\n",
       "    </tr>\n",
       "    <tr>\n",
       "      <th rowspan=\"3\" valign=\"top\">hohwag</th>\n",
       "      <th>size</th>\n",
       "      <td>4742.000000</td>\n",
       "      <td>24948.000000</td>\n",
       "      <td>7116.000000</td>\n",
       "      <td>40444.000000</td>\n",
       "    </tr>\n",
       "    <tr>\n",
       "      <th>mean</th>\n",
       "      <td>764.569992</td>\n",
       "      <td>573.163558</td>\n",
       "      <td>759.481664</td>\n",
       "      <td>544.339544</td>\n",
       "    </tr>\n",
       "    <tr>\n",
       "      <th>std</th>\n",
       "      <td>1060.654593</td>\n",
       "      <td>705.626658</td>\n",
       "      <td>1172.006202</td>\n",
       "      <td>703.503191</td>\n",
       "    </tr>\n",
       "    <tr>\n",
       "      <th rowspan=\"3\" valign=\"top\">welfare_index</th>\n",
       "      <th>size</th>\n",
       "      <td>4742.000000</td>\n",
       "      <td>24948.000000</td>\n",
       "      <td>7116.000000</td>\n",
       "      <td>40444.000000</td>\n",
       "    </tr>\n",
       "    <tr>\n",
       "      <th>mean</th>\n",
       "      <td>879.263159</td>\n",
       "      <td>659.579100</td>\n",
       "      <td>871.340460</td>\n",
       "      <td>655.428377</td>\n",
       "    </tr>\n",
       "    <tr>\n",
       "      <th>std</th>\n",
       "      <td>126.616147</td>\n",
       "      <td>115.943100</td>\n",
       "      <td>119.038178</td>\n",
       "      <td>112.990595</td>\n",
       "    </tr>\n",
       "    <tr>\n",
       "      <th rowspan=\"3\" valign=\"top\">hohsex</th>\n",
       "      <th>size</th>\n",
       "      <td>4742.000000</td>\n",
       "      <td>24948.000000</td>\n",
       "      <td>7116.000000</td>\n",
       "      <td>40444.000000</td>\n",
       "    </tr>\n",
       "    <tr>\n",
       "      <th>mean</th>\n",
       "      <td>0.923239</td>\n",
       "      <td>0.922947</td>\n",
       "      <td>0.937324</td>\n",
       "      <td>0.924656</td>\n",
       "    </tr>\n",
       "    <tr>\n",
       "      <th>std</th>\n",
       "      <td>0.266240</td>\n",
       "      <td>0.266680</td>\n",
       "      <td>0.242396</td>\n",
       "      <td>0.263949</td>\n",
       "    </tr>\n",
       "    <tr>\n",
       "      <th rowspan=\"3\" valign=\"top\">hohage</th>\n",
       "      <th>size</th>\n",
       "      <td>4742.000000</td>\n",
       "      <td>24948.000000</td>\n",
       "      <td>7116.000000</td>\n",
       "      <td>40444.000000</td>\n",
       "    </tr>\n",
       "    <tr>\n",
       "      <th>mean</th>\n",
       "      <td>47.362716</td>\n",
       "      <td>44.276918</td>\n",
       "      <td>47.524171</td>\n",
       "      <td>43.648828</td>\n",
       "    </tr>\n",
       "    <tr>\n",
       "      <th>std</th>\n",
       "      <td>11.771395</td>\n",
       "      <td>11.842345</td>\n",
       "      <td>11.348481</td>\n",
       "      <td>11.366469</td>\n",
       "    </tr>\n",
       "    <tr>\n",
       "      <th rowspan=\"3\" valign=\"top\">age</th>\n",
       "      <th>size</th>\n",
       "      <td>4742.000000</td>\n",
       "      <td>24948.000000</td>\n",
       "      <td>7116.000000</td>\n",
       "      <td>40444.000000</td>\n",
       "    </tr>\n",
       "    <tr>\n",
       "      <th>mean</th>\n",
       "      <td>12.163855</td>\n",
       "      <td>11.242023</td>\n",
       "      <td>12.120854</td>\n",
       "      <td>11.216991</td>\n",
       "    </tr>\n",
       "    <tr>\n",
       "      <th>std</th>\n",
       "      <td>3.220757</td>\n",
       "      <td>3.139114</td>\n",
       "      <td>3.176558</td>\n",
       "      <td>3.144933</td>\n",
       "    </tr>\n",
       "    <tr>\n",
       "      <th rowspan=\"3\" valign=\"top\">grc97</th>\n",
       "      <th>size</th>\n",
       "      <td>4742.000000</td>\n",
       "      <td>24948.000000</td>\n",
       "      <td>7116.000000</td>\n",
       "      <td>40444.000000</td>\n",
       "    </tr>\n",
       "    <tr>\n",
       "      <th>mean</th>\n",
       "      <td>4.622522</td>\n",
       "      <td>3.543050</td>\n",
       "      <td>4.650927</td>\n",
       "      <td>3.531599</td>\n",
       "    </tr>\n",
       "    <tr>\n",
       "      <th>std</th>\n",
       "      <td>2.687645</td>\n",
       "      <td>2.524349</td>\n",
       "      <td>2.696160</td>\n",
       "      <td>2.506094</td>\n",
       "    </tr>\n",
       "    <tr>\n",
       "      <th rowspan=\"3\" valign=\"top\">sc97</th>\n",
       "      <th>size</th>\n",
       "      <td>4742.000000</td>\n",
       "      <td>24948.000000</td>\n",
       "      <td>7116.000000</td>\n",
       "      <td>40444.000000</td>\n",
       "    </tr>\n",
       "    <tr>\n",
       "      <th>mean</th>\n",
       "      <td>0.762587</td>\n",
       "      <td>0.815186</td>\n",
       "      <td>0.795264</td>\n",
       "      <td>0.822697</td>\n",
       "    </tr>\n",
       "    <tr>\n",
       "      <th>std</th>\n",
       "      <td>0.425544</td>\n",
       "      <td>0.388155</td>\n",
       "      <td>0.403538</td>\n",
       "      <td>0.381930</td>\n",
       "    </tr>\n",
       "  </tbody>\n",
       "</table>\n",
       "</div>"
      ],
      "text/plain": [
       "progresa                      0                      basal              \n",
       "poor                   no pobre         pobre     no pobre         pobre\n",
       "sex           size  4742.000000  24948.000000  7116.000000  40444.000000\n",
       "              mean     0.496203      0.505052     0.507589      0.519317\n",
       "              std      0.500038      0.499984     0.499978      0.499633\n",
       "indig         size  4742.000000  24948.000000  7116.000000  40444.000000\n",
       "              mean     0.111817      0.332207     0.146169      0.325986\n",
       "              std      0.315175      0.471014     0.353301      0.468748\n",
       "dist_sec      size  4742.000000  24948.000000  7116.000000  40444.000000\n",
       "              mean     2.182458      2.507662     2.070875      2.453122\n",
       "              std      2.201688      2.490255     1.721580      2.141212\n",
       "sc            size  4742.000000  24948.000000  7116.000000  40444.000000\n",
       "              mean     0.768712      0.811641     0.801435      0.833891\n",
       "              std      0.421707      0.391007     0.398951      0.372184\n",
       "grc           size  4742.000000  24948.000000  7116.000000  40444.000000\n",
       "              mean     4.806161      3.810395     4.855501      3.810007\n",
       "              std      2.592468      2.460059     2.614306      2.440515\n",
       "fam_n         size  4742.000000  24948.000000  7116.000000  40444.000000\n",
       "              mean     6.888233      7.302469     6.756886      7.281327\n",
       "              std      2.396068      2.362807     2.387524      2.322986\n",
       "min_dist      size  4742.000000  24948.000000  7116.000000  40444.000000\n",
       "              mean    90.734247    103.237854    91.594810    107.152915\n",
       "              std     41.986958     43.663254    39.951263     40.778027\n",
       "dist_cap      size  4742.000000  24948.000000  7116.000000  40444.000000\n",
       "              mean   120.619666    153.769730   126.404535    150.829074\n",
       "              std     59.099801     82.633912    66.103910     73.907923\n",
       "hohedu        size  4742.000000  24948.000000  7116.000000  40444.000000\n",
       "              mean     3.396457      2.590348     3.569140      2.663139\n",
       "              std      3.167232      2.459707     3.264946      2.549971\n",
       "hohwag        size  4742.000000  24948.000000  7116.000000  40444.000000\n",
       "              mean   764.569992    573.163558   759.481664    544.339544\n",
       "              std   1060.654593    705.626658  1172.006202    703.503191\n",
       "welfare_index size  4742.000000  24948.000000  7116.000000  40444.000000\n",
       "              mean   879.263159    659.579100   871.340460    655.428377\n",
       "              std    126.616147    115.943100   119.038178    112.990595\n",
       "hohsex        size  4742.000000  24948.000000  7116.000000  40444.000000\n",
       "              mean     0.923239      0.922947     0.937324      0.924656\n",
       "              std      0.266240      0.266680     0.242396      0.263949\n",
       "hohage        size  4742.000000  24948.000000  7116.000000  40444.000000\n",
       "              mean    47.362716     44.276918    47.524171     43.648828\n",
       "              std     11.771395     11.842345    11.348481     11.366469\n",
       "age           size  4742.000000  24948.000000  7116.000000  40444.000000\n",
       "              mean    12.163855     11.242023    12.120854     11.216991\n",
       "              std      3.220757      3.139114     3.176558      3.144933\n",
       "grc97         size  4742.000000  24948.000000  7116.000000  40444.000000\n",
       "              mean     4.622522      3.543050     4.650927      3.531599\n",
       "              std      2.687645      2.524349     2.696160      2.506094\n",
       "sc97          size  4742.000000  24948.000000  7116.000000  40444.000000\n",
       "              mean     0.762587      0.815186     0.795264      0.822697\n",
       "              std      0.425544      0.388155     0.403538      0.381930"
      ]
     },
     "execution_count": 3,
     "metadata": {},
     "output_type": "execute_result"
    }
   ],
   "source": [
    "#Read in .csv file with data on Progresa campaign\n",
    "data = pd.read_csv(\"PS2/progresa_sample.csv\")\n",
    "\n",
    "#Drop columns for columns as specified\n",
    "dataSummary = data.drop(columns=['year', 'folnum', 'village'])\n",
    "\n",
    "#Print table grouping by Progresa and Poor for group size, standard deviation, and mean\n",
    "print(\"Mean, Std. Deviation Table for attribute groupings for 'Treatment' and 'Poor' variables\")\n",
    "print(\"\")\n",
    "dataSummary.groupby(['progresa', 'poor']).agg([np.size, np.mean, np.std]).transpose()"
   ]
  },
  {
   "cell_type": "markdown",
   "metadata": {
    "ein.tags": "worksheet-0",
    "slideshow": {
     "slide_type": "-"
    }
   },
   "source": [
    "### 1.2 Differences at baseline?\n",
    "Now let's investigate the differences in baseline.  Are the baseline (1997) demographic characteristics **for the poor**\n",
    "different in treatment and control villages?"
   ]
  },
  {
   "cell_type": "code",
   "execution_count": 5,
   "metadata": {},
   "outputs": [
    {
     "data": {
      "text/html": [
       "<div>\n",
       "<style scoped>\n",
       "    .dataframe tbody tr th:only-of-type {\n",
       "        vertical-align: middle;\n",
       "    }\n",
       "\n",
       "    .dataframe tbody tr th {\n",
       "        vertical-align: top;\n",
       "    }\n",
       "\n",
       "    .dataframe thead th {\n",
       "        text-align: right;\n",
       "    }\n",
       "</style>\n",
       "<table border=\"1\" class=\"dataframe\">\n",
       "  <thead>\n",
       "    <tr style=\"text-align: right;\">\n",
       "      <th></th>\n",
       "      <th>Avg (Control)</th>\n",
       "      <th>Avg (Treatment)</th>\n",
       "      <th>Diff (Treat - Control)</th>\n",
       "      <th>p-value</th>\n",
       "    </tr>\n",
       "  </thead>\n",
       "  <tbody>\n",
       "    <tr>\n",
       "      <th>sex</th>\n",
       "      <td>0.506556</td>\n",
       "      <td>0.520268</td>\n",
       "      <td>0.013713</td>\n",
       "      <td>0.01959</td>\n",
       "    </tr>\n",
       "    <tr>\n",
       "      <th>indig</th>\n",
       "      <td>0.325306</td>\n",
       "      <td>0.316744</td>\n",
       "      <td>-0.008562</td>\n",
       "      <td>0.11900</td>\n",
       "    </tr>\n",
       "    <tr>\n",
       "      <th>dist_sec</th>\n",
       "      <td>2.400687</td>\n",
       "      <td>2.399648</td>\n",
       "      <td>-0.001039</td>\n",
       "      <td>0.96807</td>\n",
       "    </tr>\n",
       "    <tr>\n",
       "      <th>sc</th>\n",
       "      <td>0.815066</td>\n",
       "      <td>0.822697</td>\n",
       "      <td>0.007631</td>\n",
       "      <td>0.09247</td>\n",
       "    </tr>\n",
       "    <tr>\n",
       "      <th>grc</th>\n",
       "      <td>3.733653</td>\n",
       "      <td>3.709214</td>\n",
       "      <td>-0.024439</td>\n",
       "      <td>0.39551</td>\n",
       "    </tr>\n",
       "    <tr>\n",
       "      <th>fam_n</th>\n",
       "      <td>7.302939</td>\n",
       "      <td>7.281032</td>\n",
       "      <td>-0.021907</td>\n",
       "      <td>0.42605</td>\n",
       "    </tr>\n",
       "    <tr>\n",
       "      <th>min_dist</th>\n",
       "      <td>103.098348</td>\n",
       "      <td>107.395231</td>\n",
       "      <td>4.296884</td>\n",
       "      <td>0.00000</td>\n",
       "    </tr>\n",
       "    <tr>\n",
       "      <th>dist_cap</th>\n",
       "      <td>154.492095</td>\n",
       "      <td>151.801472</td>\n",
       "      <td>-2.690622</td>\n",
       "      <td>0.00436</td>\n",
       "    </tr>\n",
       "    <tr>\n",
       "      <th>hohedu</th>\n",
       "      <td>2.660982</td>\n",
       "      <td>2.726729</td>\n",
       "      <td>0.065747</td>\n",
       "      <td>0.02496</td>\n",
       "    </tr>\n",
       "    <tr>\n",
       "      <th>hohwag</th>\n",
       "      <td>580.694452</td>\n",
       "      <td>550.207086</td>\n",
       "      <td>-30.487366</td>\n",
       "      <td>0.00029</td>\n",
       "    </tr>\n",
       "    <tr>\n",
       "      <th>welfare_index</th>\n",
       "      <td>661.593513</td>\n",
       "      <td>656.810476</td>\n",
       "      <td>-4.783037</td>\n",
       "      <td>0.00040</td>\n",
       "    </tr>\n",
       "    <tr>\n",
       "      <th>hohsex</th>\n",
       "      <td>0.923387</td>\n",
       "      <td>0.925586</td>\n",
       "      <td>0.002199</td>\n",
       "      <td>0.47954</td>\n",
       "    </tr>\n",
       "    <tr>\n",
       "      <th>hohage</th>\n",
       "      <td>44.270717</td>\n",
       "      <td>43.631234</td>\n",
       "      <td>-0.639483</td>\n",
       "      <td>0.00000</td>\n",
       "    </tr>\n",
       "    <tr>\n",
       "      <th>age</th>\n",
       "      <td>10.785586</td>\n",
       "      <td>10.743825</td>\n",
       "      <td>-0.041761</td>\n",
       "      <td>0.24741</td>\n",
       "    </tr>\n",
       "    <tr>\n",
       "      <th>grc97</th>\n",
       "      <td>3.733653</td>\n",
       "      <td>3.709214</td>\n",
       "      <td>-0.024439</td>\n",
       "      <td>0.39551</td>\n",
       "    </tr>\n",
       "    <tr>\n",
       "      <th>sc97</th>\n",
       "      <td>0.815066</td>\n",
       "      <td>0.822697</td>\n",
       "      <td>0.007631</td>\n",
       "      <td>0.09247</td>\n",
       "    </tr>\n",
       "  </tbody>\n",
       "</table>\n",
       "</div>"
      ],
      "text/plain": [
       "               Avg (Control)  Avg (Treatment)  Diff (Treat - Control)  p-value\n",
       "sex                 0.506556         0.520268                0.013713  0.01959\n",
       "indig               0.325306         0.316744               -0.008562  0.11900\n",
       "dist_sec            2.400687         2.399648               -0.001039  0.96807\n",
       "sc                  0.815066         0.822697                0.007631  0.09247\n",
       "grc                 3.733653         3.709214               -0.024439  0.39551\n",
       "fam_n               7.302939         7.281032               -0.021907  0.42605\n",
       "min_dist          103.098348       107.395231                4.296884  0.00000\n",
       "dist_cap          154.492095       151.801472               -2.690622  0.00436\n",
       "hohedu              2.660982         2.726729                0.065747  0.02496\n",
       "hohwag            580.694452       550.207086              -30.487366  0.00029\n",
       "welfare_index     661.593513       656.810476               -4.783037  0.00040\n",
       "hohsex              0.923387         0.925586                0.002199  0.47954\n",
       "hohage             44.270717        43.631234               -0.639483  0.00000\n",
       "age                10.785586        10.743825               -0.041761  0.24741\n",
       "grc97               3.733653         3.709214               -0.024439  0.39551\n",
       "sc97                0.815066         0.822697                0.007631  0.09247"
      ]
     },
     "execution_count": 5,
     "metadata": {},
     "output_type": "execute_result"
    }
   ],
   "source": [
    "#Filtering data to only families classified as poor, and measured in 1997\n",
    "dataClean = data[(data.poor == 'pobre') & (data.year == 97)]\n",
    "\n",
    "#Removing columns that contain text or ID information; axis = 1 means across rows\n",
    "dataClean = dataClean.drop(['year', 'folnum', 'village', 'poor'], axis=1)\n",
    "\n",
    "#Drop data where values are missing\n",
    "dataClean = dataClean.dropna()\n",
    "\n",
    "#Seperate out treatment and control\n",
    "dataCleanSummary = dataClean.groupby('progresa').mean().transpose()\n",
    "\n",
    "#Add a column for difference in results between treatment, control\n",
    "dataCleanSummary['diff'] = dataCleanSummary.basal - dataCleanSummary['0'] \n",
    "\n",
    "\n",
    "#Break datasets into two groups- treated and control\n",
    "treated = dataClean[dataClean.progresa == 'basal']\n",
    "control = dataClean[dataClean.progresa == '0']\n",
    "\n",
    "#Drop the progresa column- it contains text, and is not relevant beyond classifying our data\n",
    "treated = treated.drop(['progresa'], axis=1)\n",
    "control = control.drop(['progresa'], axis=1)\n",
    "\n",
    "#Compute p-values and add them to the Summary table\n",
    "dataCleanSummary['p'] = np.round_(stats.ttest_ind(treated, control, equal_var=False).pvalue, decimals = 5)\n",
    "\n",
    "dataCleanSummary.columns = ['Avg (Control)', 'Avg (Treatment)', 'Diff (Treat - Control)', 'p-value']\n",
    "dataCleanSummary"
   ]
  },
  {
   "cell_type": "markdown",
   "metadata": {
    "ein.tags": "worksheet-0",
    "slideshow": {
     "slide_type": "-"
    }
   },
   "source": [
    "### 1.3 Interpretation\n",
    "\n",
    "###### A: Are there statistically significant differences between treatment and control villages as baseline? \n",
    "Yes- the following factors are statistically significant (p < 0.05) differences between treatment and control villages-\n",
    "* sex\n",
    "* min_dist\n",
    "* dist_cap\n",
    "* hohedu\n",
    "* hohwag\n",
    "* hohage\n",
    "\n",
    "###### B: Why does it matter if there are differences at baseline?\n",
    "We're administering tests to see whether progresa has an affect on school enrollment rates. As a reminder- this data is BEFORE the treatment is administered. We will be comparing the results to the villages and families before the trial begun, but also against villages and families that didn't receive this treatment.\n",
    "\n",
    "It is important in such cases that the two groups- the treatment and control, be as similar as possible before the treatment is actually administered.\n",
    "\n",
    "If we have differences before the test is administered between the control and treatment group, it may have been a good idea to re-randomize which villages got progresa so that the differences between them are minimized. If not done so, these differences can impact the results of our study by having us compare treatments against a control group that is inherently different from our treatment group- we would need to adjust for these differences in the future (if that's even possible), or be unable to accurately assess the actual impact progresa has had against the control group.\n",
    "\n",
    "###### C: What does this imply about how to measure the impact of the treatment?\n",
    "Measuring the effect of the treatment against the control group is going to be hard if we're only looking at enrollment rates (sc), since the two groups are inherently different. We need to account for these differences some how if by factoring in for the categories in A. if we want to compare them."
   ]
  },
  {
   "cell_type": "markdown",
   "metadata": {
    "ein.tags": "worksheet-0",
    "slideshow": {
     "slide_type": "-"
    }
   },
   "source": [
    "### 1.4 Graphical exploration, part 1\n",
    "\n",
    "For each level of household head education, compute the average enrollment rate in 1997. Create a scatterplot that shows this relationship."
   ]
  },
  {
   "cell_type": "code",
   "execution_count": 11,
   "metadata": {
    "autoscroll": false,
    "ein.hycell": false,
    "ein.tags": "worksheet-0",
    "slideshow": {
     "slide_type": "-"
    }
   },
   "outputs": [
    {
     "data": {
      "text/plain": [
       "<matplotlib.axes._subplots.AxesSubplot at 0x27217bf8f98>"
      ]
     },
     "execution_count": 11,
     "metadata": {},
     "output_type": "execute_result"
    },
    {
     "data": {
      "image/png": "[encoded data removed]",
      "text/plain": [
       "<Figure size 432x288 with 1 Axes>"
      ]
     },
     "metadata": {
      "needs_background": "light"
     },
     "output_type": "display_data"
    }
   ],
   "source": [
    "#Filter data for only 1997\n",
    "data1997HeadEdu = data[data.year == 97]\n",
    "\n",
    "#To optimize, only select relevant columns\n",
    "data1997HeadEdu = data1997HeadEdu[['hohedu', 'sc']]\n",
    "\n",
    "#Group by the head of family's years of education and calculate mean on how many children enrolled\n",
    "data1997HeadEdu = data1997HeadEdu.groupby('hohedu').mean()\n",
    "\n",
    "#Convert the object back into a dataframe\n",
    "data1997HeadEdu = data1997HeadEdu.reset_index('hohedu')\n",
    "\n",
    "#Plot on Scatterplot; add axis\n",
    "plot = data1997HeadEdu.plot.scatter(x='hohedu', y='sc')\n",
    "plot.set_title(\"Head of Household Education vs. Average Enrollment in 1997\")\n",
    "plot.set_xlabel(\"Years of Schooling of Household Head\")\n",
    "plot.set_ylabel(\"Average Enrollment Rate\")\n",
    "plot"
   ]
  },
  {
   "cell_type": "markdown",
   "metadata": {
    "ein.tags": "worksheet-0",
    "slideshow": {
     "slide_type": "-"
    }
   },
   "source": [
    "The scatterplot suggests the relationship between a families children's enrollment and a families head's education is positively correlated- the greater the number of years of schooling for a household heads, the greater the average enrollment rate is. \n",
    "\n",
    "The relationship is almost linear from 0 to 12 years of education (outlier at 10), but is less clear after 12 with spikes and increases. 20 may be an outlier too."
   ]
  },
  {
   "cell_type": "markdown",
   "metadata": {
    "ein.tags": "worksheet-0",
    "slideshow": {
     "slide_type": "-"
    }
   },
   "source": [
    "### 1.5 Graphical exploration, part 2\n",
    "\n",
    "Create a histogram of village enrollment rates **among poor households in treated villages**, before and after treatment.  Specifically, for each village, calculate the average rate of enrollment of poor households in treated villages in 1997, then compute the average rate of enrollment of poor households in treated villages in 1998. "
   ]
  },
  {
   "cell_type": "code",
   "execution_count": 14,
   "metadata": {
    "autoscroll": false,
    "ein.hycell": false,
    "ein.tags": "worksheet-0",
    "slideshow": {
     "slide_type": "-"
    }
   },
   "outputs": [
    {
     "name": "stdout",
     "output_type": "stream",
     "text": [
      "AxesSubplot(0.125,0.125;0.775x0.755)\n"
     ]
    },
    {
     "data": {
      "image/png": "[encoded data removed]",
      "text/plain": [
       "<Figure size 432x288 with 1 Axes>"
      ]
     },
     "metadata": {
      "needs_background": "light"
     },
     "output_type": "display_data"
    }
   ],
   "source": [
    "#Filter data to poor households, in 1997, in villages that were treated\n",
    "data1997 = data[data.year == 97]\n",
    "data1997Poor = data1997[data1997.poor == 'pobre']\n",
    "data1997PoorTreated = data1997Poor[data1997Poor.progresa == 'basal']\n",
    "\n",
    "#Group households by village, find mean\n",
    "data1997PoorTreatedMean = data1997PoorTreated.groupby('village').mean()\n",
    "data1997PoorTreatedMean.reset_index()\n",
    "\n",
    "#Plot histogram\n",
    "plot = data1997PoorTreatedMean.sc.plot.hist()\n",
    "plot.axvline(data1997PoorTreatedMean.sc.mean(), color = 'black', linewidth = 3)\n",
    "plot.set_title(\"Average Education Before Treatment (1997)\")\n",
    "plot.set_xlabel(\"Average Enrollment Rate in poor households grouped by village\")\n",
    "plot.set_ylabel(\"Number of Villages\")\n",
    "print(plot)"
   ]
  },
  {
   "cell_type": "code",
   "execution_count": 12,
   "metadata": {},
   "outputs": [
    {
     "name": "stdout",
     "output_type": "stream",
     "text": [
      "AxesSubplot(0.125,0.125;0.775x0.755)\n"
     ]
    },
    {
     "data": {
      "image/png": "[encoded data removed]",
      "text/plain": [
       "<Figure size 432x288 with 1 Axes>"
      ]
     },
     "metadata": {
      "needs_background": "light"
     },
     "output_type": "display_data"
    }
   ],
   "source": [
    "#Filter data to poor households, in 1998, in villages that were treated\n",
    "data1998 = data[data.year == 98]\n",
    "data1998Poor = data1998[data1998.poor == 'pobre']\n",
    "data1998PoorTreated = data1998Poor[data1998Poor.progresa == 'basal']\n",
    "\n",
    "#Group households by village, find mean\n",
    "data1998PoorTreatedMean = data1998PoorTreated.groupby('village').mean()\n",
    "data1998PoorTreatedMean.reset_index()\n",
    "\n",
    "#Plot histogram\n",
    "plot = data1998PoorTreatedMean.sc.plot.hist()\n",
    "plot.axvline(data1998PoorTreatedMean.sc.mean(), color = 'black', linewidth = 3)\n",
    "plot.set_title(\"Average Education After Treatment (1998)\")\n",
    "plot.set_xlabel(\"Average Enrollment Rate in poor households grouped by village\")\n",
    "plot.set_ylabel(\"Number of Villages\")\n",
    "print(plot)"
   ]
  },
  {
   "cell_type": "code",
   "execution_count": 15,
   "metadata": {},
   "outputs": [
    {
     "name": "stdout",
     "output_type": "stream",
     "text": [
      "P-value for the t-test:  0.044249343422588405\n"
     ]
    }
   ],
   "source": [
    "#Calculate p-value to test if results are statistically significant\n",
    "pValue = stats.ttest_ind(data1997PoorTreatedMean.sc, data1998PoorTreatedMean.sc, equal_var=False).pvalue\n",
    "print('P-value for the t-test: ', pValue)"
   ]
  },
  {
   "cell_type": "markdown",
   "metadata": {
    "ein.tags": "worksheet-0",
    "slideshow": {
     "slide_type": "-"
    }
   },
   "source": [
    "The average enrollment line does increase after the treatment, suggesting there may be some correlation with the program and change increase in average enrollment rates. Our null hypothesis is that the program does not affect enrollment rates; however- since the p-value is lower than 0.05, we reject this hypothesis.\n",
    "\n",
    "The histogram also shifts to the right (left skewed), which indicates visually that enrollment rates have shifted towards increasing after the program was administered."
   ]
  },
  {
   "cell_type": "markdown",
   "metadata": {
    "ein.tags": "worksheet-0",
    "slideshow": {
     "slide_type": "-"
    }
   },
   "source": [
    "## Part 2: Measuring Impact\n",
    "\n",
    "Our goal is to estimate the causal impact of the PROGRESA program on\n",
    "the social and economic outcomes of individuals in Mexico. We will\n",
    "focus on the impact of the program on the poor (those with\n",
    "poor=='pobre'), since only the poor were eligible to receive the\n",
    "PROGRESA assistance.\n",
    "\n",
    "### 2.1 Cross-Sectional Estimator: T-test\n",
    "\n",
    "Begin by estimating the impact of Progresa using \"simple differences.\"\n",
    "Restricting yourself to data from 1998 (after treatment), calculate\n",
    "the average enrollment rate among **poor** households in the Treatment\n",
    "villages and the average enrollment rate among **poor** households in\n",
    "the control villages. Use a t-test to determine if this difference is\n",
    "statistically significant. What do you conclude?"
   ]
  },
  {
   "cell_type": "code",
   "execution_count": 16,
   "metadata": {
    "autoscroll": false,
    "ein.hycell": false,
    "ein.tags": "worksheet-0",
    "slideshow": {
     "slide_type": "-"
    }
   },
   "outputs": [
    {
     "name": "stdout",
     "output_type": "stream",
     "text": [
      "Average enrollment in treated villages:  0.8464791213954308\n",
      "Average enrollment in control villages:  0.807636956730308\n",
      "Difference in average enrollment b/w treatment and control:  0.0388421646651228\n",
      "Ttest_indResult(statistic=8.181477157107308, pvalue=2.9655072988948406e-16)\n"
     ]
    }
   ],
   "source": [
    "#Filter data to poor households, in 1998, in villages that were treated\n",
    "#Already calculated above\n",
    "print(\"Average enrollment in treated villages: \", data1998PoorTreated.sc.mean())\n",
    "\n",
    "#Filter data to poor households, in 1998, in villages that were NOT treated\n",
    "data1998PoorNOTTreated = data1998Poor[data1998Poor.progresa == '0']\n",
    "print(\"Average enrollment in control villages: \", data1998PoorNOTTreated.sc.mean())\n",
    "\n",
    "#Difference in treatment and control\n",
    "print(\"Difference in average enrollment b/w treatment and control: \", data1998PoorTreated.sc.mean() - data1998PoorNOTTreated.sc.mean())\n",
    "\n",
    "#Need to convert dataframes to arrays without NA values\n",
    "a = data1998PoorTreated.sc.dropna()\n",
    "b = data1998PoorNOTTreated.sc.dropna()\n",
    "\n",
    "#t-test to see if difference statistically significant\n",
    "print(stats.ttest_ind(a, b, equal_var = False))\n",
    "\n",
    "#extract pvalue; HOW TO INTERPRET?!?"
   ]
  },
  {
   "cell_type": "markdown",
   "metadata": {
    "ein.tags": "worksheet-0",
    "slideshow": {
     "slide_type": "-"
    }
   },
   "source": [
    "Our Null Hypothesis in this test would be that there is NOT a significant difference between villages that have been treated and those that have not. However, since the p-value is lower than 0.05, we reject this hypothesis. There is a statistically significant difference in average enrollment rates between villages that were and were not treated."
   ]
  },
  {
   "cell_type": "markdown",
   "metadata": {
    "ein.tags": "worksheet-0",
    "slideshow": {
     "slide_type": "-"
    }
   },
   "source": [
    "### 2.2 Cross-Sectional Estimator: Regression\n",
    "\n",
    "Estimate the effects of Progresa on enrollment using a regression\n",
    "model, by regressing the 1998 enrollment rates **of the poor** on\n",
    "treatment assignment.  Do not include any additional control\n",
    "variables."
   ]
  },
  {
   "cell_type": "code",
   "execution_count": 17,
   "metadata": {
    "autoscroll": false,
    "ein.hycell": false,
    "ein.tags": "worksheet-0",
    "slideshow": {
     "slide_type": "-"
    }
   },
   "outputs": [
    {
     "name": "stdout",
     "output_type": "stream",
     "text": [
      "                            OLS Regression Results                            \n",
      "==============================================================================\n",
      "Dep. Variable:                     sc   R-squared:                       0.003\n",
      "Model:                            OLS   Adj. R-squared:                  0.002\n",
      "Method:                 Least Squares   F-statistic:                     65.64\n",
      "Date:                Fri, 22 Mar 2019   Prob (F-statistic):           5.66e-16\n",
      "Time:                        12:25:43   Log-Likelihood:                -11171.\n",
      "No. Observations:               26155   AIC:                         2.235e+04\n",
      "Df Residuals:                   26153   BIC:                         2.236e+04\n",
      "Df Model:                           1                                         \n",
      "Covariance Type:            nonrobust                                         \n",
      "=====================================================================================\n",
      "                        coef    std err          t      P>|t|      [0.025      0.975]\n",
      "-------------------------------------------------------------------------------------\n",
      "Intercept             0.8109      0.004    217.190      0.000       0.804       0.818\n",
      "progresa[T.basal]     0.0383      0.005      8.102      0.000       0.029       0.048\n",
      "==============================================================================\n",
      "Omnibus:                     7487.800   Durbin-Watson:                   1.734\n",
      "Prob(Omnibus):                  0.000   Jarque-Bera (JB):            15756.374\n",
      "Skew:                          -1.796   Prob(JB):                         0.00\n",
      "Kurtosis:                       4.245   Cond. No.                         3.02\n",
      "==============================================================================\n",
      "\n",
      "Warnings:\n",
      "[1] Standard Errors assume that the covariance matrix of the errors is correctly specified.\n"
     ]
    }
   ],
   "source": [
    "lm = smf.ols(formula = 'sc ~ progresa', data=data1998Poor.dropna()).fit()\n",
    "print(lm.summary())"
   ]
  },
  {
   "cell_type": "markdown",
   "metadata": {
    "ein.tags": "worksheet-0",
    "slideshow": {
     "slide_type": "-"
    }
   },
   "source": [
    "###### Based on this model, how much did Progresa increase the likelihood of a child enrolling?\n",
    "Our regression model correlates the application of the progresa program with a 3.83% increase in attendance in the treated vilages.\n",
    "\n",
    "###### How does your regression estimate compare to your t-test estimate from part 2.1?\n",
    "This result is supported by our results in Part 2.1, which gave a similar difference of 3.88%. Our result from the regression is marginally lower than our answer from Part 2.1.\n",
    "\n",
    "###### Based on this regression model, can we reject the null hypothesis that the treatment effects are zero? \n",
    "Our Null Hypothesis in this test would be that there is NOT a significant difference between villages that have been treated and those that have not. Our p-value is low enough that we reject this hypothesis.\n",
    "\n",
    "###### What is the counterfactual assumption underlying this regression?\n",
    "We are assuming the 1997 enrollment rates before the treatment (progresa) was administered is the same."
   ]
  },
  {
   "cell_type": "markdown",
   "metadata": {
    "ein.tags": "worksheet-0",
    "slideshow": {
     "slide_type": "-"
    }
   },
   "source": [
    "### 2.3 Multiple Regression\n",
    "\n",
    "Re-run the above regression estimated but this time include a set of\n",
    "relevant control variables. Include, for instance, age, distance to a secondary\n",
    "school, gender, education of household head, welfare index,\n",
    "indigenous, etc."
   ]
  },
  {
   "cell_type": "code",
   "execution_count": 18,
   "metadata": {
    "autoscroll": false,
    "ein.hycell": false,
    "ein.tags": "worksheet-0",
    "slideshow": {
     "slide_type": "-"
    }
   },
   "outputs": [
    {
     "name": "stdout",
     "output_type": "stream",
     "text": [
      "                            OLS Regression Results                            \n",
      "==============================================================================\n",
      "Dep. Variable:                     sc   R-squared:                       0.260\n",
      "Model:                            OLS   Adj. R-squared:                  0.259\n",
      "Method:                 Least Squares   F-statistic:                     1528.\n",
      "Date:                Fri, 22 Mar 2019   Prob (F-statistic):               0.00\n",
      "Time:                        12:26:11   Log-Likelihood:                -7274.5\n",
      "No. Observations:               26155   AIC:                         1.456e+04\n",
      "Df Residuals:                   26148   BIC:                         1.462e+04\n",
      "Df Model:                           6                                         \n",
      "Covariance Type:            nonrobust                                         \n",
      "=====================================================================================\n",
      "                        coef    std err          t      P>|t|      [0.025      0.975]\n",
      "-------------------------------------------------------------------------------------\n",
      "Intercept             1.5371      0.010    157.608      0.000       1.518       1.556\n",
      "progresa[T.basal]     0.0345      0.004      8.445      0.000       0.026       0.042\n",
      "hohedu                0.0086      0.001     10.785      0.000       0.007       0.010\n",
      "age                  -0.0649      0.001    -92.245      0.000      -0.066      -0.064\n",
      "hohwag            -5.597e-06   2.82e-06     -1.987      0.047   -1.11e-05   -7.56e-08\n",
      "dist_sec             -0.0106      0.001    -11.392      0.000      -0.012      -0.009\n",
      "sex                   0.0308      0.004      7.796      0.000       0.023       0.039\n",
      "==============================================================================\n",
      "Omnibus:                     3049.344   Durbin-Watson:                   1.710\n",
      "Prob(Omnibus):                  0.000   Jarque-Bera (JB):             4232.615\n",
      "Skew:                          -0.974   Prob(JB):                         0.00\n",
      "Kurtosis:                       3.295   Cond. No.                     4.54e+03\n",
      "==============================================================================\n",
      "\n",
      "Warnings:\n",
      "[1] Standard Errors assume that the covariance matrix of the errors is correctly specified.\n",
      "[2] The condition number is large, 4.54e+03. This might indicate that there are\n",
      "strong multicollinearity or other numerical problems.\n"
     ]
    }
   ],
   "source": [
    "# Your code here\n",
    "lm = smf.ols(formula = 'sc ~ progresa + hohedu + age + hohwag + dist_sec + sex', data=data1998Poor.dropna()).fit()\n",
    "print(lm.summary())"
   ]
  },
  {
   "cell_type": "markdown",
   "metadata": {
    "ein.tags": "worksheet-0",
    "slideshow": {
     "slide_type": "-"
    }
   },
   "source": [
    "###### How do the controls affect the point estimate of treatment effect?\n",
    "Including controls has dropped the change in enrollment thought to be correlated with the program in comparison to our earlier findings, but our p-value is still low enough that we can to reject the null hypothesis that the program has had no affect on attendance- it is stastically significant.\n",
    "\n",
    "###### How do the controls affect the standard error on the treatment effect? \n",
    "Our standard error has dropped from 0.005 to 0.004. \n",
    "\n",
    "###### How do you interpret the differences (or similarities) between your estimates of 2.2 and 2.3?\n",
    "The effect because of Progresa has decreased, with the other considered factors having a statistically significant impact on average enrollment rates. However, our standard error for progresa has decreased, improving our model accuraccy; making the model following multiple regressions a better fit for our data."
   ]
  },
  {
   "cell_type": "markdown",
   "metadata": {
    "ein.tags": "worksheet-0",
    "slideshow": {
     "slide_type": "-"
    }
   },
   "source": [
    "### 2.4 Difference-in-Difference, version 1 (tabular)\n",
    "\n",
    "Thus far, we have computed the effects of Progresa by estimating the\n",
    "difference in 1998 enrollment rates across villages. An alternative\n",
    "approach would be to compute the treatment effect using a\n",
    "difference-in-differences framework.\n",
    "\n",
    "Begin by estimating the average treatment effects of the program for poor households using data from 1997 and 1998. Specifically, calculate:\n",
    "\n",
    "a) the difference (between 1997 and 1998) in enrollment rates among poor households in treated villages\n",
    "\n",
    "b) the difference (between 1997 and 1998) in enrollment rates among poor households in control villages.\n",
    "\n",
    "c) The difference between these two differences is your estimate.\n",
    "(i.e. Difference-in-Differences estimate = [Y_T(98) - Y_C(98)] - [Y_T(97) - Y_C(97)])\n",
    "\n",
    "* What is your estimate of the impact, and how does it compare to your earlier (simple difference) results?\n",
    "\n",
    "* What is the counterfactual assumption underlying this estimate? \n"
   ]
  },
  {
   "cell_type": "code",
   "execution_count": 19,
   "metadata": {
    "autoscroll": false,
    "ein.hycell": false,
    "ein.tags": "worksheet-0",
    "slideshow": {
     "slide_type": "-"
    }
   },
   "outputs": [
    {
     "name": "stdout",
     "output_type": "stream",
     "text": [
      "a) Enrollment rates in poor households in treated villages: \n",
      "1997 enrollment rates:  0.8227\n",
      "1998 enrollment rates:  0.8493\n",
      "Difference in enrollment rates:  0.0266\n",
      "\n",
      "b) Enrollment rates in poor households in control villages: \n",
      "1997 Control villages enrollment rates:  0.8151\n",
      "1998 Control villages enrollment rates:  0.8109\n",
      "Difference in enrollment rates:  -0.0041\n",
      "\n",
      "c) Difference in enrollment differences between control and treated:  0.0307\n"
     ]
    }
   ],
   "source": [
    "def meanSC(data, year, treatment):\n",
    "    return data[(data.year == year) & (data.progresa == treatment) & (data.poor == 'pobre')].dropna().sc.mean()\n",
    "\n",
    "print(\"a) Enrollment rates in poor households in treated villages: \")\n",
    "print(\"1997 enrollment rates: \", round(meanSC(data, 97, 'basal'), 4))\n",
    "print(\"1998 enrollment rates: \", round(meanSC(data, 98, 'basal'), 4))\n",
    "print(\"Difference in enrollment rates: \", round(meanSC(data, 98, 'basal') - meanSC(data, 97, 'basal'), 4))\n",
    "print(\"\")\n",
    "print(\"b) Enrollment rates in poor households in control villages: \")\n",
    "print(\"1997 Control villages enrollment rates: \", round(meanSC(data, 97, '0'), 4))\n",
    "print(\"1998 Control villages enrollment rates: \", round(meanSC(data, 98, '0'), 4))\n",
    "print(\"Difference in enrollment rates: \", round(meanSC(data, 98, '0') - meanSC(data, 97, '0'), 4))\n",
    "print(\"\")\n",
    "print(\"c) Difference in enrollment differences between control and treated: \", round((meanSC(data, 98, 'basal') - meanSC(data, 98, '0')) - (meanSC(data, 97, 'basal') - meanSC(data, 97, '0')), 4))"
   ]
  },
  {
   "cell_type": "markdown",
   "metadata": {
    "ein.tags": "worksheet-0",
    "slideshow": {
     "slide_type": "-"
    }
   },
   "source": [
    "* What is your estimate of the impact, and how does it compare to your earlier (simple difference) results?\n",
    "* The estimate of the impact of the progresa treatment on the average enrollment rate is 3.07% which is lower from the previously measured affect. \n",
    "* \n",
    "* What is the counterfactual assumption underlying this estimate? \n",
    "* If the subsidy/ progresa treatment was NOT applied, there would NOT be any difference between the treated and control villages's average enrollment rates as measured in 1997 and 1998."
   ]
  },
  {
   "cell_type": "markdown",
   "metadata": {
    "ein.tags": "worksheet-0",
    "slideshow": {
     "slide_type": "-"
    }
   },
   "source": [
    "### 2.5 Difference-in-Difference, version 2 (regression)\n",
    "\n",
    "Now use a regression specification to estimate the average treatment\n",
    "effects of the program in a difference-in-differences\n",
    "framework. Include at least 5 control variables."
   ]
  },
  {
   "cell_type": "code",
   "execution_count": 20,
   "metadata": {
    "autoscroll": false,
    "ein.hycell": false,
    "ein.tags": "worksheet-0",
    "slideshow": {
     "slide_type": "-"
    }
   },
   "outputs": [
    {
     "name": "stdout",
     "output_type": "stream",
     "text": [
      "                            OLS Regression Results                            \n",
      "==============================================================================\n",
      "Dep. Variable:                     sc   R-squared:                       0.271\n",
      "Model:                            OLS   Adj. R-squared:                  0.270\n",
      "Method:                 Least Squares   F-statistic:                     3112.\n",
      "Date:                Fri, 22 Mar 2019   Prob (F-statistic):               0.00\n",
      "Time:                        12:27:26   Log-Likelihood:                -20282.\n",
      "No. Observations:               67122   AIC:                         4.058e+04\n",
      "Df Residuals:                   67113   BIC:                         4.066e+04\n",
      "Df Model:                           8                                         \n",
      "Covariance Type:            nonrobust                                         \n",
      "===================================================================================================\n",
      "                                      coef    std err          t      P>|t|      [0.025      0.975]\n",
      "---------------------------------------------------------------------------------------------------\n",
      "Intercept                           1.5165      0.008    193.570      0.000       1.501       1.532\n",
      "progresa[T.basal]                   0.0283      0.007      4.282      0.000       0.015       0.041\n",
      "poor[T.pobre]                       0.0003      0.006      0.058      0.954      -0.011       0.011\n",
      "progresa[T.basal]:poor[T.pobre]    -0.0103      0.007     -1.426      0.154      -0.024       0.004\n",
      "hohedu                              0.0085      0.000     17.344      0.000       0.008       0.009\n",
      "age                                -0.0648      0.000   -151.983      0.000      -0.066      -0.064\n",
      "hohwag                           -2.49e-06   1.63e-06     -1.532      0.125   -5.67e-06    6.95e-07\n",
      "dist_sec                           -0.0108      0.001    -18.012      0.000      -0.012      -0.010\n",
      "sex                                 0.0332      0.003     13.137      0.000       0.028       0.038\n",
      "==============================================================================\n",
      "Omnibus:                     6221.314   Durbin-Watson:                   1.484\n",
      "Prob(Omnibus):                  0.000   Jarque-Bera (JB):             8152.444\n",
      "Skew:                          -0.854   Prob(JB):                         0.00\n",
      "Kurtosis:                       3.005   Cond. No.                     9.25e+03\n",
      "==============================================================================\n",
      "\n",
      "Warnings:\n",
      "[1] Standard Errors assume that the covariance matrix of the errors is correctly specified.\n",
      "[2] The condition number is large, 9.25e+03. This might indicate that there are\n",
      "strong multicollinearity or other numerical problems.\n"
     ]
    }
   ],
   "source": [
    "data9798 = data[(data.year == 97) | (data.year == 98)].dropna()\n",
    "lm = smf.ols(formula = 'sc ~ (progresa * poor) + hohedu + age + hohwag + dist_sec + sex', data=data9798).fit()\n",
    "print(lm.summary())"
   ]
  },
  {
   "cell_type": "markdown",
   "metadata": {
    "ein.tags": "worksheet-0",
    "slideshow": {
     "slide_type": "-"
    }
   },
   "source": [
    "###### What is your estimate of the impact of Progresa? Be very specific in interpreting your coefficients and standard errors, and make sure to specify exactly what units you are measuring and estimating.\n",
    "Progresa has a 2.83% increase in enrollment rates when administered to villages. This is statistically significant and we can reject the null hypothesis given the p-value of 0.001. Our standard error is higher than previous models though, which is concerning and would suggest this model may not be a good fit for our data. What's more interesting is we fail to reject our null hypothesis, that a given attribute does not have a statistically significant affect on response variable, for the attributes of poor, the combined effect of poor and progresa, and the head of family age given their large p-values. \n",
    "\n",
    "###### How do these estimates of the treatment effect compare to the estimates based on the simple difference?\n",
    "Our measured impact of progresa is much lower than our previously calculated difference when considering just progresa by itself. \n",
    "\n",
    "###### How do these estimates compare to the difference-in-difference estimates from 2.4 above? What accounts for these differences?\n",
    "Although the effect of progresa is lower, we may reject the null hypothesis on the basis of the p-value; progresa has still had a statistically significant impact on the enrollment rates. The lowering of progresa's value is marked with changes elsewhere such as (all values discussed are statistically significant)\n",
    "* more educated the head of a family is, the more likely it is that the children of said family will remain enrolled in school- which makes sense- if the head of the family has been educated, they likely see some benefit or skill that school may provide, or has a higher income because of said developed skills, which makes it more likely to these families children to be enrolled in school. \n",
    "* age- the younger a child is, the more likely they are to be administered in school. If a child is not already enrolled in school from a young age, it is intuitive to believe that the family is less likely to enroll them in school as they get older.\n",
    "\n",
    "###### What is the counterfactual assumption underlying this regression? \n",
    "The data would not change between families and villages had progresa NOT been administered."
   ]
  },
  {
   "cell_type": "markdown",
   "metadata": {
    "ein.tags": "worksheet-0",
    "slideshow": {
     "slide_type": "-"
    }
   },
   "source": [
    "### 2.6 Summary\n",
    "\n",
    "Based on all the analysis you have undertaken to date, do you\n",
    "  believe that Progresa had a causal impact on the enrollment rates of\n",
    "  poor households in Mexico?  Explain by referring to the methods and\n",
    "  results above."
   ]
  },
  {
   "cell_type": "markdown",
   "metadata": {
    "ein.tags": "worksheet-0",
    "slideshow": {
     "slide_type": "-"
    }
   },
   "source": [
    "Based on all our data and findings, it is likely Progresa has had a causal impact on enrollment rates. In each regression test conducted, we rejected our null hypothesis (Progresa has not had an impact on enrollment rates), even after considering other factors. That said, Progresa's impact, while statistically significant, has caused a very small increase in enrollment rates."
   ]
  }
 ],
 "metadata": {
  "kernelspec": {
   "display_name": "Python 3",
   "language": "python",
   "name": "python3"
  },
  "language_info": {
   "codemirror_mode": {
    "name": "ipython",
    "version": 3
   },
   "file_extension": ".py",
   "mimetype": "text/x-python",
   "name": "python",
   "nbconvert_exporter": "python",
   "pygments_lexer": "ipython3",
   "version": "3.7.1"
  },
  "name": "ps02-progresa.ipynb"
 },
 "nbformat": 4,
 "nbformat_minor": 1
}
